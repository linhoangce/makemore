{
 "cells": [
  {
   "cell_type": "code",
   "execution_count": 1,
   "id": "6f4cf792-85c3-42d6-8a14-b0afc0dc88a7",
   "metadata": {},
   "outputs": [],
   "source": [
    "import torch\n",
    "import torch.nn.functional as F\n",
    "import matplotlib.pyplot as plt\n",
    "%matplotlib inline"
   ]
  },
  {
   "cell_type": "code",
   "execution_count": 2,
   "id": "ce141c98-0ceb-4213-b79f-5b7ebccdf6ff",
   "metadata": {},
   "outputs": [
    {
     "data": {
      "text/plain": [
       "['emma', 'olivia', 'ava', 'isabella', 'sophia', 'charlotte', 'mia', 'amelia']"
      ]
     },
     "execution_count": 2,
     "metadata": {},
     "output_type": "execute_result"
    }
   ],
   "source": [
    "# read in all the words\n",
    "words = open('names.txt', 'r').read().splitlines()\n",
    "words[:8]"
   ]
  },
  {
   "cell_type": "code",
   "execution_count": 3,
   "id": "44379beb-2a97-4ee4-ad9d-b2dad2e2996c",
   "metadata": {},
   "outputs": [
    {
     "data": {
      "text/plain": [
       "32033"
      ]
     },
     "execution_count": 3,
     "metadata": {},
     "output_type": "execute_result"
    }
   ],
   "source": [
    "len(words)"
   ]
  },
  {
   "cell_type": "code",
   "execution_count": 4,
   "id": "defc9e52-e1ca-4ca0-9b7f-fb41bd882c16",
   "metadata": {},
   "outputs": [
    {
     "name": "stdout",
     "output_type": "stream",
     "text": [
      "{1: 'a', 2: 'b', 3: 'c', 4: 'd', 5: 'e', 6: 'f', 7: 'g', 8: 'h', 9: 'i', 10: 'j', 11: 'k', 12: 'l', 13: 'm', 14: 'n', 15: 'o', 16: 'p', 17: 'q', 18: 'r', 19: 's', 20: 't', 21: 'u', 22: 'v', 23: 'w', 24: 'x', 25: 'y', 26: 'z', 0: '.'}\n"
     ]
    }
   ],
   "source": [
    "# build th evocabulary of characters and mappings to/from integers\n",
    "chars = sorted(list(set(''.join(words))))\n",
    "stoi = {s:i+1 for i,s in enumerate(chars)}\n",
    "stoi['.'] = 0\n",
    "itos = {i:s for s,i in stoi.items()}\n",
    "print(itos)"
   ]
  },
  {
   "cell_type": "code",
   "execution_count": 5,
   "id": "a397d5e3-ed6d-4b25-b777-e523a56000c8",
   "metadata": {},
   "outputs": [
    {
     "name": "stdout",
     "output_type": "stream",
     "text": [
      "{'a': 1, 'b': 2, 'c': 3, 'd': 4, 'e': 5, 'f': 6, 'g': 7, 'h': 8, 'i': 9, 'j': 10, 'k': 11, 'l': 12, 'm': 13, 'n': 14, 'o': 15, 'p': 16, 'q': 17, 'r': 18, 's': 19, 't': 20, 'u': 21, 'v': 22, 'w': 23, 'x': 24, 'y': 25, 'z': 26, '.': 0}\n"
     ]
    }
   ],
   "source": [
    "print(stoi)"
   ]
  },
  {
   "cell_type": "code",
   "execution_count": 6,
   "id": "a1d8fb11-ae4b-4053-bb02-74adc9d4d820",
   "metadata": {},
   "outputs": [
    {
     "name": "stdout",
     "output_type": "stream",
     "text": [
      "emma\n",
      "... -----> e\n",
      "..e -----> m\n",
      ".em -----> m\n",
      "emm -----> a\n",
      "mma -----> .\n",
      "olivia\n",
      "... -----> o\n",
      "..o -----> l\n",
      ".ol -----> i\n",
      "oli -----> v\n",
      "liv -----> i\n",
      "ivi -----> a\n",
      "via -----> .\n",
      "ava\n",
      "... -----> a\n",
      "..a -----> v\n",
      ".av -----> a\n",
      "ava -----> .\n",
      "isabella\n",
      "... -----> i\n",
      "..i -----> s\n",
      ".is -----> a\n",
      "isa -----> b\n",
      "sab -----> e\n",
      "abe -----> l\n",
      "bel -----> l\n",
      "ell -----> a\n",
      "lla -----> .\n",
      "sophia\n",
      "... -----> s\n",
      "..s -----> o\n",
      ".so -----> p\n",
      "sop -----> h\n",
      "oph -----> i\n",
      "phi -----> a\n",
      "hia -----> .\n"
     ]
    }
   ],
   "source": [
    "#  build the dataset\n",
    "\n",
    "block_size = 3 # context length: how many characters do we take to predict the next one?\n",
    "X = [] # the input to the neural net\n",
    "Y = [] # the label for the data\n",
    "\n",
    "for w in words[:5]:\n",
    "\n",
    "    print(w)\n",
    "    context = [0] * block_size\n",
    "\n",
    "    for ch in w + '.':\n",
    "        ix = stoi[ch]\n",
    "        # print('ix', ix)\n",
    "        X.append(context)\n",
    "        Y.append(ix)\n",
    "\n",
    "        print(''.join(itos[i] for i in context), '----->', itos[ix])\n",
    "        context = context[1:] + [ix] # crop and append\n",
    "\n",
    "X = torch.tensor(X)\n",
    "Y = torch.tensor(Y)"
   ]
  },
  {
   "cell_type": "code",
   "execution_count": 7,
   "id": "0ba81bbd-fb7d-4582-8f72-46a535656e92",
   "metadata": {},
   "outputs": [
    {
     "data": {
      "text/plain": [
       "(torch.Size([32, 3]), torch.int64, torch.Size([32]), torch.int64)"
      ]
     },
     "execution_count": 7,
     "metadata": {},
     "output_type": "execute_result"
    }
   ],
   "source": [
    "X.shape, X.dtype, Y.shape, Y.dtype"
   ]
  },
  {
   "cell_type": "code",
   "execution_count": 8,
   "id": "8c600de5-4f86-4924-bffc-6bdf2c826399",
   "metadata": {},
   "outputs": [
    {
     "data": {
      "text/plain": [
       "tensor([[ 0,  0,  0],\n",
       "        [ 0,  0,  5],\n",
       "        [ 0,  5, 13],\n",
       "        [ 5, 13, 13],\n",
       "        [13, 13,  1],\n",
       "        [ 0,  0,  0],\n",
       "        [ 0,  0, 15],\n",
       "        [ 0, 15, 12],\n",
       "        [15, 12,  9],\n",
       "        [12,  9, 22],\n",
       "        [ 9, 22,  9],\n",
       "        [22,  9,  1],\n",
       "        [ 0,  0,  0],\n",
       "        [ 0,  0,  1],\n",
       "        [ 0,  1, 22],\n",
       "        [ 1, 22,  1],\n",
       "        [ 0,  0,  0],\n",
       "        [ 0,  0,  9],\n",
       "        [ 0,  9, 19],\n",
       "        [ 9, 19,  1],\n",
       "        [19,  1,  2],\n",
       "        [ 1,  2,  5],\n",
       "        [ 2,  5, 12],\n",
       "        [ 5, 12, 12],\n",
       "        [12, 12,  1],\n",
       "        [ 0,  0,  0],\n",
       "        [ 0,  0, 19],\n",
       "        [ 0, 19, 15],\n",
       "        [19, 15, 16],\n",
       "        [15, 16,  8],\n",
       "        [16,  8,  9],\n",
       "        [ 8,  9,  1]])"
      ]
     },
     "execution_count": 8,
     "metadata": {},
     "output_type": "execute_result"
    }
   ],
   "source": [
    "X # the input"
   ]
  },
  {
   "cell_type": "code",
   "execution_count": 9,
   "id": "c130cb67-3c5f-41bb-9f7e-0ffdaee296b0",
   "metadata": {},
   "outputs": [
    {
     "data": {
      "text/plain": [
       "tensor([ 5, 13, 13,  1,  0, 15, 12,  9, 22,  9,  1,  0,  1, 22,  1,  0,  9, 19,\n",
       "         1,  2,  5, 12, 12,  1,  0, 19, 15, 16,  8,  9,  1,  0])"
      ]
     },
     "execution_count": 9,
     "metadata": {},
     "output_type": "execute_result"
    }
   ],
   "source": [
    "Y # the prediction target"
   ]
  },
  {
   "cell_type": "code",
   "execution_count": 10,
   "id": "f50f1668-0cec-4393-bb4d-b7817c7fee15",
   "metadata": {},
   "outputs": [
    {
     "data": {
      "text/plain": [
       "tensor([[-1.3835, -0.5587],\n",
       "        [-0.7939, -1.4780],\n",
       "        [-0.8159, -0.2277],\n",
       "        [-1.1451,  0.3459],\n",
       "        [-1.1999,  0.4871],\n",
       "        [-1.0551,  0.5149],\n",
       "        [-0.3823, -0.2470],\n",
       "        [-1.3045, -0.0976],\n",
       "        [-0.7462, -0.4776],\n",
       "        [ 1.2912,  1.2455],\n",
       "        [-1.0467,  0.6149],\n",
       "        [-0.8137,  0.0917],\n",
       "        [ 0.8946, -0.7766],\n",
       "        [-1.8541, -0.5189],\n",
       "        [ 1.5528,  0.3656],\n",
       "        [ 0.2356,  0.1119],\n",
       "        [ 0.6038, -0.3772],\n",
       "        [-0.4917,  0.3450],\n",
       "        [ 0.5338,  1.1933],\n",
       "        [ 0.8012,  0.4457],\n",
       "        [-0.0950, -0.9620],\n",
       "        [ 1.2015, -1.8714],\n",
       "        [-0.8283,  0.3104],\n",
       "        [-0.3042,  0.2321],\n",
       "        [ 0.8347, -0.8809],\n",
       "        [ 0.5805, -0.5749],\n",
       "        [-0.7666, -0.4946]])"
      ]
     },
     "execution_count": 10,
     "metadata": {},
     "output_type": "execute_result"
    }
   ],
   "source": [
    "C = torch.randn((27, 2)) # Createing an embedding table as input to the neural net\n",
    "C"
   ]
  },
  {
   "cell_type": "code",
   "execution_count": 11,
   "id": "75deb432-9e1e-448c-a349-861b218673c6",
   "metadata": {},
   "outputs": [
    {
     "data": {
      "text/plain": [
       "tensor([-1.0551,  0.5149])"
      ]
     },
     "execution_count": 11,
     "metadata": {},
     "output_type": "execute_result"
    }
   ],
   "source": [
    "C[5] # equivalent to: F.one_hot(torch.tensor(5), num_classes=27).float() @ C"
   ]
  },
  {
   "cell_type": "code",
   "execution_count": 12,
   "id": "ce6209a2-7328-44aa-91f0-842b69e511f8",
   "metadata": {},
   "outputs": [
    {
     "data": {
      "text/plain": [
       "torch.Size([32, 3, 2])"
      ]
     },
     "execution_count": 12,
     "metadata": {},
     "output_type": "execute_result"
    }
   ],
   "source": [
    "emb = C[X]\n",
    "emb.shape"
   ]
  },
  {
   "cell_type": "code",
   "execution_count": 13,
   "id": "694849e3-512f-45f6-a266-b05a70b7d178",
   "metadata": {},
   "outputs": [],
   "source": [
    "W1 = torch.randn((6, 100))\n",
    "b1 = torch.randn(100)\n"
   ]
  },
  {
   "cell_type": "code",
   "execution_count": 14,
   "id": "67d65938-7dc9-487f-9579-a1147776d48e",
   "metadata": {},
   "outputs": [
    {
     "ename": "RuntimeError",
     "evalue": "mat1 and mat2 shapes cannot be multiplied (96x2 and 6x100)",
     "output_type": "error",
     "traceback": [
      "\u001b[1;31m---------------------------------------------------------------------------\u001b[0m",
      "\u001b[1;31mRuntimeError\u001b[0m                              Traceback (most recent call last)",
      "Cell \u001b[1;32mIn[14], line 1\u001b[0m\n\u001b[1;32m----> 1\u001b[0m \u001b[43memb\u001b[49m\u001b[43m \u001b[49m\u001b[38;5;241;43m@\u001b[39;49m\u001b[43m \u001b[49m\u001b[43mW1\u001b[49m \u001b[38;5;241m+\u001b[39m b1 \u001b[38;5;66;03m# This does not work as the shapes are not aligned correctly \u001b[39;00m\n",
      "\u001b[1;31mRuntimeError\u001b[0m: mat1 and mat2 shapes cannot be multiplied (96x2 and 6x100)"
     ]
    }
   ],
   "source": [
    "emb @ W1 + b1 # This does not work as the shapes are not aligned correctly "
   ]
  },
  {
   "cell_type": "code",
   "execution_count": 15,
   "id": "26342ab0-0d7e-4e9a-b842-bf82e8056dce",
   "metadata": {},
   "outputs": [
    {
     "data": {
      "text/plain": [
       "torch.Size([32, 2])"
      ]
     },
     "execution_count": 15,
     "metadata": {},
     "output_type": "execute_result"
    }
   ],
   "source": [
    "# advanced slicing to extract specific elements along a given axis\n",
    "# `:` ---> select all batch samples (size 32)\n",
    "# `0` ---> selects the first token (index 0) in each sample\n",
    "# `:` ---> select all embedding dimensions (2)\n",
    "emb[:, 0, :].shape"
   ]
  },
  {
   "cell_type": "code",
   "execution_count": 16,
   "id": "847c800d-4ca4-429a-8923-f1955f54a601",
   "metadata": {},
   "outputs": [
    {
     "data": {
      "text/plain": [
       "torch.Size([32, 2])"
      ]
     },
     "execution_count": 16,
     "metadata": {},
     "output_type": "execute_result"
    }
   ],
   "source": [
    "# Extract the second token's embeddings for each sample \n",
    "emb[:, 1, :].shape "
   ]
  },
  {
   "cell_type": "code",
   "execution_count": 17,
   "id": "e3fb43fd-e871-466d-82b7-8f9d44cff74a",
   "metadata": {},
   "outputs": [
    {
     "data": {
      "text/plain": [
       "torch.Size([32, 2])"
      ]
     },
     "execution_count": 17,
     "metadata": {},
     "output_type": "execute_result"
    }
   ],
   "source": [
    "# Extract the third token's embeddings for each sample\n",
    "emb[:, 2, :].shape "
   ]
  },
  {
   "cell_type": "code",
   "execution_count": 18,
   "id": "c5dc2eb7-a5a5-4457-a03d-d913db876cf7",
   "metadata": {},
   "outputs": [
    {
     "data": {
      "text/plain": [
       "torch.Size([32, 6])"
      ]
     },
     "execution_count": 18,
     "metadata": {},
     "output_type": "execute_result"
    }
   ],
   "source": [
    "# Concatenate embeddings of the 1st , 2nd, and 3rd tokens along the last dimension(dim=1),\n",
    "# resulting in a shape of [bacht_size, 6] (since each token embedding is of size 2, and there are 3 tokens: 3*2 = 6)\n",
    "# https://pytorch.org/docs/main/generated/torch.cat.html\n",
    "torch.cat([emb[:, 0, :], emb[:, 1, :], emb[:, 2, :]], 1).shape"
   ]
  },
  {
   "cell_type": "code",
   "execution_count": 19,
   "id": "ea3e5710-5018-45dc-8a66-f2073192a3ae",
   "metadata": {},
   "outputs": [
    {
     "data": {
      "text/plain": [
       "torch.Size([32, 6])"
      ]
     },
     "execution_count": 19,
     "metadata": {},
     "output_type": "execute_result"
    }
   ],
   "source": [
    "torch.cat(torch.unbind(emb, 1), 1).shape # achieve the same result as using slicing above but more efficient and flexible\n",
    "# https://pytorch.org/docs/stable/generated/torch.unbind.html"
   ]
  },
  {
   "cell_type": "code",
   "execution_count": 20,
   "id": "289f6786-27fd-43b6-beaf-069fc091ee54",
   "metadata": {},
   "outputs": [
    {
     "data": {
      "text/plain": [
       "tensor([ 0,  1,  2,  3,  4,  5,  6,  7,  8,  9, 10, 11, 12, 13, 14, 15, 16, 17])"
      ]
     },
     "execution_count": 20,
     "metadata": {},
     "output_type": "execute_result"
    }
   ],
   "source": [
    "a = torch.arange(18)\n",
    "a"
   ]
  },
  {
   "cell_type": "code",
   "execution_count": 21,
   "id": "9f4f972e-76ec-4866-a3f4-f26e7083e687",
   "metadata": {},
   "outputs": [
    {
     "data": {
      "text/plain": [
       "tensor([[ 0,  1,  2,  3,  4,  5,  6,  7,  8],\n",
       "        [ 9, 10, 11, 12, 13, 14, 15, 16, 17]])"
      ]
     },
     "execution_count": 21,
     "metadata": {},
     "output_type": "execute_result"
    }
   ],
   "source": [
    "# A more efficient way to manipulate the dimensions of the tensors based on specific requirements\n",
    "a.view(2, 9)\n",
    "# https://pytorch.org/docs/stable/generated/torch.Tensor.view.html\n",
    "# Also:  # https://pytorch.org/docs/stable/storage.html"
   ]
  },
  {
   "cell_type": "code",
   "execution_count": 22,
   "id": "c9219468-2f05-48fc-af1c-063040517dad",
   "metadata": {},
   "outputs": [
    {
     "data": {
      "text/plain": [
       "tensor([[[ 0,  1],\n",
       "         [ 2,  3],\n",
       "         [ 4,  5]],\n",
       "\n",
       "        [[ 6,  7],\n",
       "         [ 8,  9],\n",
       "         [10, 11]],\n",
       "\n",
       "        [[12, 13],\n",
       "         [14, 15],\n",
       "         [16, 17]]])"
      ]
     },
     "execution_count": 22,
     "metadata": {},
     "output_type": "execute_result"
    }
   ],
   "source": [
    "a.view(3, 3, 2)"
   ]
  },
  {
   "cell_type": "code",
   "execution_count": 23,
   "id": "3d65d2ec-61db-48a9-abf7-61f7dd0bd025",
   "metadata": {},
   "outputs": [
    {
     "data": {
      "text/plain": [
       "tensor([[-1.3835, -0.5587, -1.3835, -0.5587, -1.3835, -0.5587],\n",
       "        [-1.3835, -0.5587, -1.3835, -0.5587, -1.0551,  0.5149],\n",
       "        [-1.3835, -0.5587, -1.0551,  0.5149, -1.8541, -0.5189],\n",
       "        [-1.0551,  0.5149, -1.8541, -0.5189, -1.8541, -0.5189],\n",
       "        [-1.8541, -0.5189, -1.8541, -0.5189, -0.7939, -1.4780],\n",
       "        [-1.3835, -0.5587, -1.3835, -0.5587, -1.3835, -0.5587],\n",
       "        [-1.3835, -0.5587, -1.3835, -0.5587,  0.2356,  0.1119],\n",
       "        [-1.3835, -0.5587,  0.2356,  0.1119,  0.8946, -0.7766],\n",
       "        [ 0.2356,  0.1119,  0.8946, -0.7766,  1.2912,  1.2455],\n",
       "        [ 0.8946, -0.7766,  1.2912,  1.2455, -0.8283,  0.3104],\n",
       "        [ 1.2912,  1.2455, -0.8283,  0.3104,  1.2912,  1.2455],\n",
       "        [-0.8283,  0.3104,  1.2912,  1.2455, -0.7939, -1.4780],\n",
       "        [-1.3835, -0.5587, -1.3835, -0.5587, -1.3835, -0.5587],\n",
       "        [-1.3835, -0.5587, -1.3835, -0.5587, -0.7939, -1.4780],\n",
       "        [-1.3835, -0.5587, -0.7939, -1.4780, -0.8283,  0.3104],\n",
       "        [-0.7939, -1.4780, -0.8283,  0.3104, -0.7939, -1.4780],\n",
       "        [-1.3835, -0.5587, -1.3835, -0.5587, -1.3835, -0.5587],\n",
       "        [-1.3835, -0.5587, -1.3835, -0.5587,  1.2912,  1.2455],\n",
       "        [-1.3835, -0.5587,  1.2912,  1.2455,  0.8012,  0.4457],\n",
       "        [ 1.2912,  1.2455,  0.8012,  0.4457, -0.7939, -1.4780],\n",
       "        [ 0.8012,  0.4457, -0.7939, -1.4780, -0.8159, -0.2277],\n",
       "        [-0.7939, -1.4780, -0.8159, -0.2277, -1.0551,  0.5149],\n",
       "        [-0.8159, -0.2277, -1.0551,  0.5149,  0.8946, -0.7766],\n",
       "        [-1.0551,  0.5149,  0.8946, -0.7766,  0.8946, -0.7766],\n",
       "        [ 0.8946, -0.7766,  0.8946, -0.7766, -0.7939, -1.4780],\n",
       "        [-1.3835, -0.5587, -1.3835, -0.5587, -1.3835, -0.5587],\n",
       "        [-1.3835, -0.5587, -1.3835, -0.5587,  0.8012,  0.4457],\n",
       "        [-1.3835, -0.5587,  0.8012,  0.4457,  0.2356,  0.1119],\n",
       "        [ 0.8012,  0.4457,  0.2356,  0.1119,  0.6038, -0.3772],\n",
       "        [ 0.2356,  0.1119,  0.6038, -0.3772, -0.7462, -0.4776],\n",
       "        [ 0.6038, -0.3772, -0.7462, -0.4776,  1.2912,  1.2455],\n",
       "        [-0.7462, -0.4776,  1.2912,  1.2455, -0.7939, -1.4780]])"
      ]
     },
     "execution_count": 23,
     "metadata": {},
     "output_type": "execute_result"
    }
   ],
   "source": [
    "emb = emb.view(-1, 6) # Python can infer the size of the tensor with -1, making it more scalable\n",
    "emb"
   ]
  },
  {
   "cell_type": "code",
   "execution_count": 24,
   "id": "49877cdc-46fb-4e45-a990-70c134b7c8d3",
   "metadata": {},
   "outputs": [
    {
     "data": {
      "text/plain": [
       "torch.Size([32, 100])"
      ]
     },
     "execution_count": 24,
     "metadata": {},
     "output_type": "execute_result"
    }
   ],
   "source": [
    "h = emb @ W1 + b1 # (32, 6) x (6, 100) -> (32, 100)\n",
    "h.shape"
   ]
  },
  {
   "cell_type": "code",
   "execution_count": 25,
   "id": "dd8d99d0-7e62-4284-8b6d-767e6910e8d7",
   "metadata": {},
   "outputs": [
    {
     "data": {
      "text/plain": [
       "tensor([[-0.7842,  0.0444, -0.9967,  ..., -0.9075, -0.0135, -0.6408],\n",
       "        [-0.9186,  0.5520, -0.9920,  ..., -0.9896,  0.5575, -0.1014],\n",
       "        [-0.7444,  0.3315, -0.9998,  ..., -0.9748,  0.3713, -0.1149],\n",
       "        ...,\n",
       "        [ 0.5988, -0.9932, -0.9946,  ..., -0.7440, -0.8951, -0.8373],\n",
       "        [-0.9395,  0.9962,  0.8208,  ..., -0.1703,  0.8775,  0.0918],\n",
       "        [ 0.6219, -0.8574, -0.9954,  ..., -0.9907, -0.9574,  0.3983]])"
      ]
     },
     "execution_count": 25,
     "metadata": {},
     "output_type": "execute_result"
    }
   ],
   "source": [
    "h = torch.tanh(h)\n",
    "h"
   ]
  },
  {
   "cell_type": "code",
   "execution_count": 26,
   "id": "fa27e417-5301-4775-bdf3-5e5e039d2e3a",
   "metadata": {},
   "outputs": [],
   "source": [
    "W2 = torch.randn((100, 27))\n",
    "b2 = torch.randn(27)"
   ]
  },
  {
   "cell_type": "code",
   "execution_count": 27,
   "id": "a4d13ff4-0343-4679-b76e-3d675ebd3d98",
   "metadata": {},
   "outputs": [],
   "source": [
    "logits = h @ W2 + b2"
   ]
  },
  {
   "cell_type": "code",
   "execution_count": 28,
   "id": "c647621e-1a4c-4009-a652-fd735f1a8f06",
   "metadata": {},
   "outputs": [
    {
     "data": {
      "text/plain": [
       "torch.Size([32, 27])"
      ]
     },
     "execution_count": 28,
     "metadata": {},
     "output_type": "execute_result"
    }
   ],
   "source": [
    "logits.shape"
   ]
  },
  {
   "cell_type": "code",
   "execution_count": 29,
   "id": "96773b82-d4a2-4782-a79b-77a70ea4bf55",
   "metadata": {},
   "outputs": [],
   "source": [
    "counts = logits.exp()"
   ]
  },
  {
   "cell_type": "code",
   "execution_count": 30,
   "id": "a0c9de57-b8c7-4e1a-ae4c-6d215c92f6f7",
   "metadata": {},
   "outputs": [],
   "source": [
    "prob = counts / counts.sum(1, keepdims=True)"
   ]
  },
  {
   "cell_type": "code",
   "execution_count": 31,
   "id": "476213a8-ed3d-4c0c-be33-d566fd8e254d",
   "metadata": {},
   "outputs": [
    {
     "data": {
      "text/plain": [
       "torch.Size([32, 27])"
      ]
     },
     "execution_count": 31,
     "metadata": {},
     "output_type": "execute_result"
    }
   ],
   "source": [
    "prob.shape"
   ]
  },
  {
   "cell_type": "code",
   "execution_count": 32,
   "id": "34e07552-a56e-4bf3-bfa6-1b696535878e",
   "metadata": {},
   "outputs": [
    {
     "data": {
      "text/plain": [
       "tensor(1.0000)"
      ]
     },
     "execution_count": 32,
     "metadata": {},
     "output_type": "execute_result"
    }
   ],
   "source": [
    "prob[0].sum()"
   ]
  },
  {
   "cell_type": "code",
   "execution_count": 33,
   "id": "937d7a12-614d-448f-82ec-fc4a51f7cb9c",
   "metadata": {},
   "outputs": [
    {
     "data": {
      "text/plain": [
       "tensor(14.5966)"
      ]
     },
     "execution_count": 33,
     "metadata": {},
     "output_type": "execute_result"
    }
   ],
   "source": [
    "loss = -prob[torch.arange(32), Y].log().mean()\n",
    "loss"
   ]
  },
  {
   "cell_type": "markdown",
   "id": "df3c1cd7-a7ab-4c9b-bff3-8d0508435d49",
   "metadata": {},
   "source": [
    "<<<<<<<<<<<<<<<<<<<<<<<<<, SUMMARY >>>>>>>>>>>>>>>>>>>>>>>>>>>>>>"
   ]
  },
  {
   "cell_type": "code",
   "execution_count": 34,
   "id": "5b5df21f-09d9-40a2-bcc7-179011767d71",
   "metadata": {},
   "outputs": [],
   "source": [
    "g = torch.Generator().manual_seed(2147483647)\n",
    "C = torch.randn((27, 2), generator=g)\n",
    "W1 = torch.randn((6, 100), generator=g)\n",
    "b1 = torch.randn(100, generator=g)\n",
    "W2 = torch.randn((100, 27), generator=g)\n",
    "b2 = torch.randn(27, generator=g)\n",
    "parameters = [C, W1, b1, W2, b2]"
   ]
  },
  {
   "cell_type": "code",
   "execution_count": 35,
   "id": "7420a24e-5ecf-437d-b88b-0f64a873755d",
   "metadata": {},
   "outputs": [
    {
     "data": {
      "text/plain": [
       "3481"
      ]
     },
     "execution_count": 35,
     "metadata": {},
     "output_type": "execute_result"
    }
   ],
   "source": [
    "sum(p.nelement() for p in parameters) # number of parameters in total"
   ]
  },
  {
   "cell_type": "code",
   "execution_count": 36,
   "id": "91c28f2b-da62-4d8f-8c1d-d95e6b7b6f6e",
   "metadata": {},
   "outputs": [
    {
     "data": {
      "text/plain": [
       "tensor(17.7697)"
      ]
     },
     "execution_count": 36,
     "metadata": {},
     "output_type": "execute_result"
    }
   ],
   "source": [
    "emb = C[X] # (32, 3, 2)\n",
    "h = torch.tanh(emb.view(-1, 6) @ W1 + b1) # (32, 100)\n",
    "logits = h @ W2 + b2 # (32, 27)\n",
    "counts = logits.exp()\n",
    "prob = counts / counts.sum(1, keepdims=True)\n",
    "loss = -prob[torch.arange(32), Y].log().mean()\n",
    "loss"
   ]
  },
  {
   "cell_type": "code",
   "execution_count": 37,
   "id": "fd67487a-a81e-403d-a0a5-0ca405a336ea",
   "metadata": {},
   "outputs": [
    {
     "data": {
      "text/plain": [
       "tensor(17.7697)"
      ]
     },
     "execution_count": 37,
     "metadata": {},
     "output_type": "execute_result"
    }
   ],
   "source": [
    "# This function provides a more efficient way to calculate the loss, and forward pass and backward pass\n",
    "# and the mathematical operations are much more well behaved, i.e does not run out of numerical range \n",
    "# to represent a very large positive number. e.g e^100 = inf\n",
    "# >>> logits = torch.tensor([-100, -3, 0, 100])\n",
    "# >>> counts = logits.exp()\n",
    "# >>> probs = counts / counts.sum()\n",
    "# >>> probs\n",
    "# tensor([0., 0., 0., nan])\n",
    "# >>> counts\n",
    "# tensor([3.7835e-44, 4.9787e-02, 1.0000e+00,        inf])\n",
    "\n",
    "# Internally, Pytorch calculates the maximum value in the logits and subtracts it by a value to offset the possible range \n",
    "# for numeric representation, e.g subtract 100 in this case, will make it work\n",
    "# >>> logits = torch.tensor([-100, -3, 0, 100]) - 100\n",
    "# >>> counts = logits.exp()\n",
    "# >>> probs = counts / counts.sum()\n",
    "# >>> counts\n",
    "# tensor([0.0000e+00, 1.4013e-45, 3.7835e-44, 1.0000e+00])\n",
    "\n",
    "F.cross_entropy(logits, Y)"
   ]
  },
  {
   "cell_type": "code",
   "execution_count": 38,
   "id": "ae282312-b65f-4a8e-826e-109182000c71",
   "metadata": {},
   "outputs": [
    {
     "data": {
      "text/plain": [
       "tensor([0.0000e+00, 1.4013e-45, 3.7835e-44, 1.0000e+00])"
      ]
     },
     "execution_count": 38,
     "metadata": {},
     "output_type": "execute_result"
    }
   ],
   "source": [
    "logits = torch.tensor([-100, -3, 0, 100]) - 100 # remove -100 will make the result overflow\n",
    "counts = logits.exp()\n",
    "probs = counts / counts.sum()\n",
    "probs\n",
    "counts"
   ]
  },
  {
   "cell_type": "code",
   "execution_count": 39,
   "id": "f28e1528-3a08-4a3e-8a68-0c79b2b3b313",
   "metadata": {},
   "outputs": [],
   "source": [
    "for p in parameters:\n",
    "    p.requires_grad=True"
   ]
  },
  {
   "cell_type": "code",
   "execution_count": 40,
   "id": "d7e72b7e-f09b-44e1-9cf6-6d5e11cab0f2",
   "metadata": {},
   "outputs": [
    {
     "name": "stdout",
     "output_type": "stream",
     "text": [
      "0.25613829493522644\n"
     ]
    }
   ],
   "source": [
    "for _ in range(1000):\n",
    "    # forward pass \n",
    "    emb = C[X] # (32, 3, 2)\n",
    "    h = torch.tanh(emb.view(-1, 6) @ W1 + b1) # (32, 100)\n",
    "    logits = h @ W2 + b2 # (32, 27)\n",
    "    loss = F.cross_entropy(logits, Y)\n",
    "    # print(loss.item())\n",
    "    \n",
    "    # backward pass\n",
    "    for p in parameters:\n",
    "        p.grad = None\n",
    "    \n",
    "    loss.backward()\n",
    "    \n",
    "    # update\n",
    "    for p in parameters:\n",
    "        p.data += -0.1 * p.grad\n",
    "print(loss.item())"
   ]
  },
  {
   "cell_type": "code",
   "execution_count": 41,
   "id": "24e30cb1-645c-4c3d-a5e0-0286a77a8df4",
   "metadata": {},
   "outputs": [
    {
     "data": {
      "text/plain": [
       "torch.return_types.max(\n",
       "values=tensor([13.3348, 17.7905, 20.6013, 20.6120, 16.7355, 13.3348, 15.9984, 14.1723,\n",
       "        15.9147, 18.3614, 15.9396, 20.9265, 13.3348, 17.1089, 17.1319, 20.0601,\n",
       "        13.3348, 16.5891, 15.1017, 17.0581, 18.5862, 15.9670, 10.8740, 10.6871,\n",
       "        15.5056, 13.3348, 16.1794, 16.9743, 12.7427, 16.2008, 19.0846, 16.0195],\n",
       "       grad_fn=<MaxBackward0>),\n",
       "indices=tensor([19, 13, 13,  1,  0, 19, 12,  9, 22,  9,  1,  0, 19, 22,  1,  0, 19, 19,\n",
       "         1,  2,  5, 12, 12,  1,  0, 19, 15, 16,  8,  9,  1,  0]))"
      ]
     },
     "execution_count": 41,
     "metadata": {},
     "output_type": "execute_result"
    }
   ],
   "source": [
    "logits.max(1)"
   ]
  },
  {
   "cell_type": "code",
   "execution_count": 42,
   "id": "aa5ff944-81d7-4319-abf3-e68427b46dc8",
   "metadata": {},
   "outputs": [
    {
     "data": {
      "text/plain": [
       "tensor([ 5, 13, 13,  1,  0, 15, 12,  9, 22,  9,  1,  0,  1, 22,  1,  0,  9, 19,\n",
       "         1,  2,  5, 12, 12,  1,  0, 19, 15, 16,  8,  9,  1,  0])"
      ]
     },
     "execution_count": 42,
     "metadata": {},
     "output_type": "execute_result"
    }
   ],
   "source": [
    "Y"
   ]
  },
  {
   "cell_type": "markdown",
   "id": "617da9cf-c592-491d-bab9-b90e67c135e1",
   "metadata": {},
   "source": [
    "#### <<<<<<<<<<<<<<<<<<<<<<<<<<<< OPTIMIZATION >>>>>>>>>>>>>>>>>>>>>>>>>>>>>>>>"
   ]
  },
  {
   "cell_type": "code",
   "execution_count": 43,
   "id": "facd1c3c-4c01-4c54-a513-7f6ffaf2bdc5",
   "metadata": {},
   "outputs": [],
   "source": [
    "# nuild the dataset\n",
    "\n",
    "block_size = 3 # context_length: how many characters do we take to preduct the next one?\n",
    "X, Y = [], []\n",
    "\n",
    "for w in words: # iterate through the entire dataset\n",
    "\n",
    "    context = [0] * block_size\n",
    "\n",
    "    for ch in w + '.':\n",
    "        ix = stoi[ch]\n",
    "        X.append(context)\n",
    "        Y.append(ix)\n",
    "        context = context[1:] + [ix] # crop and append\n",
    "\n",
    "X = torch.tensor(X)\n",
    "Y = torch.tensor(Y)"
   ]
  },
  {
   "cell_type": "code",
   "execution_count": 44,
   "id": "3180c09d-14d1-4824-89b3-026f72ccbed5",
   "metadata": {},
   "outputs": [
    {
     "data": {
      "text/plain": [
       "(torch.Size([228146, 3]), torch.Size([228146]))"
      ]
     },
     "execution_count": 44,
     "metadata": {},
     "output_type": "execute_result"
    }
   ],
   "source": [
    "X.shape, Y.shape"
   ]
  },
  {
   "cell_type": "code",
   "execution_count": 45,
   "id": "dec598dc-043d-4706-a3fe-e77836e3ab6b",
   "metadata": {},
   "outputs": [],
   "source": [
    "g = torch.Generator().manual_seed(2147483647)\n",
    "C = torch.randn((27, 2), generator=g)\n",
    "W1 = torch.randn((6, 100), generator=g)\n",
    "b1 = torch.randn(100, generator=g)\n",
    "W2 = torch.randn((100, 27), generator=g)\n",
    "b2 = torch.randn(27, generator=g)\n",
    "parameters = [C, W1, b1, W2, b2]"
   ]
  },
  {
   "cell_type": "code",
   "execution_count": 46,
   "id": "a5ff95cf-e931-4684-be6f-174f23b726ff",
   "metadata": {},
   "outputs": [
    {
     "data": {
      "text/plain": [
       "3481"
      ]
     },
     "execution_count": 46,
     "metadata": {},
     "output_type": "execute_result"
    }
   ],
   "source": [
    "sum(p.nelement() for p in parameters)"
   ]
  },
  {
   "cell_type": "code",
   "execution_count": 47,
   "id": "0b324228-db65-4d21-b653-3641442dc116",
   "metadata": {},
   "outputs": [],
   "source": [
    "for p in parameters:\n",
    "    p.requires_grad = True"
   ]
  },
  {
   "cell_type": "code",
   "execution_count": 48,
   "id": "fcc7bfbe-3d5d-407a-82a7-449d47ced21b",
   "metadata": {},
   "outputs": [
    {
     "data": {
      "text/plain": [
       "tensor([0.0010, 0.0010, 0.0010,  ..., 0.9986, 0.9993, 1.0000])"
      ]
     },
     "execution_count": 48,
     "metadata": {},
     "output_type": "execute_result"
    }
   ],
   "source": [
    "lre = torch.linspace(-3, 0, 10000)\n",
    "lrs = 10**lre # scales the learning rates exponentially as opposed to liner increase using torch.linspace(0.001, 1, 1000) which increases by 10 each step\n",
    "lrs"
   ]
  },
  {
   "cell_type": "code",
   "execution_count": 49,
   "id": "82ede0b0-d87b-4def-b4c2-6ee3e6405329",
   "metadata": {},
   "outputs": [],
   "source": [
    "# This will run very slowly due to too much work, forwarding and backwarding through the entire dataset of\n",
    "# over 200,000 words\n",
    "# In practice, we perform forward pass and backward pass on mini batches of data instead of the entire set.\n",
    "# So, we shall selecl a random batch of the dataset using torch.randint\n",
    "\n",
    "lri = [] # keep track of the learning rate used\n",
    "lossi = [] # losses resulted\n",
    "\n",
    "for i in range(10000):\n",
    "\n",
    "    # minibatch construct\n",
    "    ix = torch.randint(0, X.shape[0], (32,))\n",
    "    \n",
    "    # forward pass \n",
    "    emb = C[X[ix]]\n",
    "    h = torch.tanh(emb.view(-1, 6) @ W1 + b1) # (32, 100)\n",
    "    logits = h @ W2 + b2 # (32, 27)\n",
    "    loss = F.cross_entropy(logits, Y[ix])\n",
    "    # print(loss.item())\n",
    "\n",
    "    # backward pass\n",
    "    for p in parameters:\n",
    "        p.grad = None\n",
    "\n",
    "    loss.backward()\n",
    "    \n",
    "    # update\n",
    "    # lr = lrs[i]\n",
    "    lr = 0.01\n",
    "    for p in parameters:\n",
    "        p.data += -lr * p.grad\n",
    "\n",
    "    # track stats\n",
    "    lri.append(lre[i])\n",
    "    lossi.append(loss.item())\n",
    "\n",
    "# print(loss.item())"
   ]
  },
  {
   "cell_type": "code",
   "execution_count": 50,
   "id": "425792a1-ad97-48d1-9638-768feb27c86d",
   "metadata": {},
   "outputs": [
    {
     "data": {
      "text/plain": [
       "[<matplotlib.lines.Line2D at 0x18ac5ea3b60>]"
      ]
     },
     "execution_count": 50,
     "metadata": {},
     "output_type": "execute_result"
    },
    {
     "data": {
      "image/png": "[encoded data removed]",
      "text/plain": [
       "<Figure size 640x480 with 1 Axes>"
      ]
     },
     "metadata": {},
     "output_type": "display_data"
    }
   ],
   "source": [
    "plt.plot(lri, lossi)"
   ]
  },
  {
   "cell_type": "code",
   "execution_count": 51,
   "id": "1781332f-0bfa-4cba-8bc0-7b0c48f94736",
   "metadata": {},
   "outputs": [
    {
     "data": {
      "text/plain": [
       "tensor(2.5736, grad_fn=<NllLossBackward0>)"
      ]
     },
     "execution_count": 51,
     "metadata": {},
     "output_type": "execute_result"
    }
   ],
   "source": [
    "emb = C[X]\n",
    "h = torch.tanh(emb.view(-1, 6) @ W1 + b1)\n",
    "logits = h @ W2 + b2\n",
    "loss = F.cross_entropy(logits, Y)\n",
    "loss"
   ]
  },
  {
   "cell_type": "markdown",
   "id": "d21cb1c1-2642-4b17-9d1b-a2ef03284dcb",
   "metadata": {},
   "source": [
    ">>>>>>>>>>>>>>>>>>>>>>>>>>>>>>>>>>>>>> TRAIN, VALIDATE, TEST APPROACH <<<<<<<<<<<<<<<<<<<<<<<<<<<<<<<<<"
   ]
  },
  {
   "cell_type": "code",
   "execution_count": 52,
   "id": "40fd1de6-ef0d-4f7e-8ced-2864b8e6bd68",
   "metadata": {},
   "outputs": [
    {
     "name": "stdout",
     "output_type": "stream",
     "text": [
      "torch.Size([182625, 3]) torch.Size([182625])\n",
      "torch.Size([22655, 3]) torch.Size([22655])\n",
      "torch.Size([22866, 3]) torch.Size([22866])\n"
     ]
    }
   ],
   "source": [
    "import random\n",
    "\n",
    "def build_dataset(words):\n",
    "    block_size = 3\n",
    "    X, Y = [], []\n",
    "\n",
    "    for w in words:\n",
    "        context = [0] * block_size\n",
    "\n",
    "        for ch in w + '.':\n",
    "            ix = stoi[ch]\n",
    "            X.append(context)\n",
    "            Y.append(ix)\n",
    "            context = context[1:] + [ix]\n",
    "\n",
    "    X = torch.tensor(X)\n",
    "    Y = torch.tensor(Y)\n",
    "    print(X.shape, Y.shape)\n",
    "\n",
    "    return X, Y\n",
    "\n",
    "random.seed(42)\n",
    "random.shuffle(words)\n",
    "n1 = int(0.8 * len(words))\n",
    "n2 = int(0.9 * len(words))\n",
    "\n",
    "Xtrain, Ytrain = build_dataset(words[:n1])\n",
    "Xdev, Ydev = build_dataset(words[n1:n2])\n",
    "Xtest, Ytest = build_dataset(words[n2:])"
   ]
  },
  {
   "cell_type": "code",
   "execution_count": 53,
   "id": "c16ceea0-089d-4139-9e43-26c7175e3103",
   "metadata": {},
   "outputs": [],
   "source": [
    "g = torch.Generator().manual_seed(2147483647)\n",
    "C = torch.randn((27, 2), generator=g)\n",
    "W1 = torch.randn((6, 300), generator=g)\n",
    "b1 = torch.randn(300, generator=g)\n",
    "W2 = torch.randn((300, 27), generator=g)\n",
    "b2 = torch.randn(27, generator=g)\n",
    "parameters = [C, W1, b1, W2, b2]"
   ]
  },
  {
   "cell_type": "code",
   "execution_count": 54,
   "id": "1e7ede16-525f-4644-a61d-9c6c44551173",
   "metadata": {},
   "outputs": [
    {
     "data": {
      "text/plain": [
       "10281"
      ]
     },
     "execution_count": 54,
     "metadata": {},
     "output_type": "execute_result"
    }
   ],
   "source": [
    "sum(p.nelement() for p in parameters)"
   ]
  },
  {
   "cell_type": "code",
   "execution_count": 55,
   "id": "0f1e8bb6-c53e-4eba-8154-aee0d1a09f71",
   "metadata": {},
   "outputs": [],
   "source": [
    "for p in parameters:\n",
    "    p.requires_grad = True"
   ]
  },
  {
   "cell_type": "code",
   "execution_count": 56,
   "id": "7f4333bb-95f8-4c6c-ac97-ff73c5b65183",
   "metadata": {},
   "outputs": [],
   "source": [
    "lri = []\n",
    "lossi = []\n",
    "stepi = []"
   ]
  },
  {
   "cell_type": "code",
   "execution_count": 66,
   "id": "42290eb5-2081-4e2d-858a-36ccba468e9b",
   "metadata": {},
   "outputs": [
    {
     "name": "stdout",
     "output_type": "stream",
     "text": [
      "training complete\n"
     ]
    }
   ],
   "source": [
    "for i in range(50000):\n",
    "\n",
    "    # minibatch construct\n",
    "    ix = torch.randint(0, Xtrain.shape[0], (32,))\n",
    "\n",
    "    # forward pass\n",
    "    emb = C[Xtrain[ix]]\n",
    "    h = torch.tanh(emb.view(-1, 6) @ W1 + b1)\n",
    "    logits = h @ W2 + b2\n",
    "    loss = F.cross_entropy(logits, Ytrain[ix])\n",
    "\n",
    "    # backward pass\n",
    "    for p in parameters:\n",
    "        p.grad = None\n",
    "\n",
    "    loss.backward()\n",
    "\n",
    "    # update\n",
    "    lr = 0.01\n",
    "    for p in parameters:\n",
    "        p.data += -lr * p.grad\n",
    "\n",
    "    # track stats\n",
    "    stepi.append(i)\n",
    "    lossi.append(loss.item())\n",
    "\n",
    "print(\"training complete\")"
   ]
  },
  {
   "cell_type": "code",
   "execution_count": 67,
   "id": "56b09a23-acf2-4e67-ba2e-fbbcf969e4f6",
   "metadata": {},
   "outputs": [
    {
     "data": {
      "text/plain": [
       "[<matplotlib.lines.Line2D at 0x18ac5feb380>]"
      ]
     },
     "execution_count": 67,
     "metadata": {},
     "output_type": "execute_result"
    },
    {
     "data": {
      "image/png": "[encoded data removed]",
      "text/plain": [
       "<Figure size 640x480 with 1 Axes>"
      ]
     },
     "metadata": {},
     "output_type": "display_data"
    }
   ],
   "source": [
    "plt.plot(stepi, lossi)"
   ]
  },
  {
   "cell_type": "code",
   "execution_count": 68,
   "id": "96e23772-991a-4e86-bf17-49abe2b09928",
   "metadata": {},
   "outputs": [
    {
     "data": {
      "text/plain": [
       "tensor(2.3626, grad_fn=<NllLossBackward0>)"
      ]
     },
     "execution_count": 68,
     "metadata": {},
     "output_type": "execute_result"
    }
   ],
   "source": [
    "emb = C[Xtrain]\n",
    "h = torch.tanh(emb.view(-1, 6) @ W1 + b1)\n",
    "logits = h @ W2 + b2\n",
    "loss = F.cross_entropy(logits, Ytrain)\n",
    "loss"
   ]
  },
  {
   "cell_type": "code",
   "execution_count": 69,
   "id": "252da930-07f0-4bde-8a92-9d9644142384",
   "metadata": {},
   "outputs": [
    {
     "data": {
      "text/plain": [
       "tensor(2.3613, grad_fn=<NllLossBackward0>)"
      ]
     },
     "execution_count": 69,
     "metadata": {},
     "output_type": "execute_result"
    }
   ],
   "source": [
    "# Evaluate the trained model using the validation dataset\n",
    "emb = C[Xdev]\n",
    "h = torch.tanh(emb.view(-1, 6) @ W1 + b1)\n",
    "logits = h @ W2 + b2\n",
    "loss = F.cross_entropy(logits, Ydev)\n",
    "loss"
   ]
  },
  {
   "cell_type": "code",
   "execution_count": 70,
   "id": "3041e028-3623-4748-a10c-4ae73b77f4ba",
   "metadata": {},
   "outputs": [
    {
     "data": {
      "image/png": "[encoded data removed]",
      "text/plain": [
       "<Figure size 800x800 with 1 Axes>"
      ]
     },
     "metadata": {},
     "output_type": "display_data"
    }
   ],
   "source": [
    "# Visualize the embeddings with 2 dimensions\n",
    "plt.figure(figsize=(8,8))\n",
    "plt.scatter(C[:,0].data, C[:,1].data, s=200)\n",
    "\n",
    "for i in range(C.shape[0]):\n",
    "    plt.text(C[i,0].item(), C[i,1].item(), itos[i], ha='center', va='center', color='white')\n",
    "\n",
    "plt.grid('minor')"
   ]
  },
  {
   "cell_type": "markdown",
   "id": "f2bbfd66-a89e-40d0-a368-f9fdc1746bd4",
   "metadata": {},
   "source": [
    "<<<<<<<<<<<<<<<<<<<<<<<<<< SCALING UP THE EMBEDDINGS TO (POSSIBLY) RESOLVE THE CONSTRAINT ON PERFORMANCE >>>>>>>>>>>>>>>>"
   ]
  },
  {
   "cell_type": "code",
   "execution_count": 71,
   "id": "a284e004-621e-46d2-9abe-0836497e30e0",
   "metadata": {},
   "outputs": [],
   "source": [
    "g = torch.Generator().manual_seed(2147483647)\n",
    "C = torch.randn((27, 10), generator=g) # Scale the dimension of input from 27x2 -> 27x10\n",
    "W1 = torch.rand((30, 300), generator=g) # There are now 3x10 = 30 inputs into the second NN\n",
    "b1 = torch.randn(300, generator=g)\n",
    "W2 = torch.randn((300, 27), generator=g)\n",
    "b2 = torch.randn(27, generator=g)\n",
    "parameters = [C, W1, b1, W2, b2]"
   ]
  },
  {
   "cell_type": "code",
   "execution_count": 72,
   "id": "ac1da25b-a8c8-4545-9af5-60a316476bdc",
   "metadata": {},
   "outputs": [
    {
     "data": {
      "text/plain": [
       "17697"
      ]
     },
     "execution_count": 72,
     "metadata": {},
     "output_type": "execute_result"
    }
   ],
   "source": [
    "sum(p.nelement() for p in parameters)"
   ]
  },
  {
   "cell_type": "code",
   "execution_count": 73,
   "id": "61759c02-21cd-425c-b23d-8a2d20987aca",
   "metadata": {},
   "outputs": [],
   "source": [
    "for p in parameters:\n",
    "    p.requires_grad = True"
   ]
  },
  {
   "cell_type": "code",
   "execution_count": 74,
   "id": "7108cfe3-713f-42c5-9cd5-71ff77ee5e31",
   "metadata": {},
   "outputs": [],
   "source": [
    "lri = []\n",
    "lossi = []\n",
    "stepi = []"
   ]
  },
  {
   "cell_type": "code",
   "execution_count": 81,
   "id": "1bf6b572-3570-4308-a029-195f8ca955d6",
   "metadata": {},
   "outputs": [
    {
     "name": "stdout",
     "output_type": "stream",
     "text": [
      "training complete\n"
     ]
    }
   ],
   "source": [
    "for i in range(200000):\n",
    "\n",
    "    # minibatch construct\n",
    "    ix = torch.randint(0, Xtrain.shape[0], (32,))\n",
    "\n",
    "    # forward pass\n",
    "    emb = C[Xtrain[ix]]\n",
    "    h = torch.tanh(emb.view(-1, 30) @ W1 + b1)\n",
    "    logits = h @ W2 + b2\n",
    "    loss = F.cross_entropy(logits, Ytrain[ix])\n",
    "\n",
    "    # backward pass\n",
    "    for p in parameters:\n",
    "        p.grad = None\n",
    "\n",
    "    loss.backward()\n",
    "\n",
    "    # update\n",
    "    lr = 0.1 if i < 100000 else 0.01\n",
    "    for p in parameters:\n",
    "        p.data += -lr * p.grad\n",
    "\n",
    "    stepi.append(i)\n",
    "    lossi.append(loss.log10().item())\n",
    "\n",
    "print(\"training complete\")\n",
    "    "
   ]
  },
  {
   "cell_type": "code",
   "execution_count": 76,
   "id": "46daab95-3408-462f-b08f-7b03c7bbcdc6",
   "metadata": {},
   "outputs": [
    {
     "data": {
      "text/plain": [
       "[<matplotlib.lines.Line2D at 0x18acbd745c0>]"
      ]
     },
     "execution_count": 76,
     "metadata": {},
     "output_type": "execute_result"
    },
    {
     "data": {
      "image/png": "[encoded data removed]",
      "text/plain": [
       "<Figure size 640x480 with 1 Axes>"
      ]
     },
     "metadata": {},
     "output_type": "display_data"
    }
   ],
   "source": [
    "plt.plot(stepi, lossi)"
   ]
  },
  {
   "cell_type": "code",
   "execution_count": 78,
   "id": "a8815bec-11f7-4b08-a9fc-f092e62954d9",
   "metadata": {},
   "outputs": [
    {
     "data": {
      "text/plain": [
       "tensor(2.0895, grad_fn=<NllLossBackward0>)"
      ]
     },
     "execution_count": 78,
     "metadata": {},
     "output_type": "execute_result"
    }
   ],
   "source": [
    "emb = C[Xtrain]\n",
    "h = torch.tanh(emb.view(-1, 30) @ W1 + b1)\n",
    "logits = h @ W2 + b2\n",
    "loss = F.cross_entropy(logits, Ytrain)\n",
    "loss"
   ]
  },
  {
   "cell_type": "code",
   "execution_count": 79,
   "id": "dc413770-334d-4718-8ac4-67ba5b76f258",
   "metadata": {},
   "outputs": [
    {
     "data": {
      "text/plain": [
       "tensor(2.1317, grad_fn=<NllLossBackward0>)"
      ]
     },
     "execution_count": 79,
     "metadata": {},
     "output_type": "execute_result"
    }
   ],
   "source": [
    "emb = C[Xdev]\n",
    "h = torch.tanh(emb.view(-1, 30) @ W1 + b1)\n",
    "logits = h @ W2 + b2\n",
    "loss = F.cross_entropy(logits, Ydev)\n",
    "loss"
   ]
  },
  {
   "cell_type": "markdown",
   "id": "22839bc7-4d17-47a4-95cd-a370b5dd84af",
   "metadata": {},
   "source": [
    "<<<<<<<<<<<<<<<<<<<<< SAMPLE FROM THE TRAINED MODEL <<<<<<<<<<<<<<<<<<<<<<<<<<<<"
   ]
  },
  {
   "cell_type": "code",
   "execution_count": 80,
   "id": "367e5613-e856-4767-8c92-349e9d9b0dea",
   "metadata": {},
   "outputs": [
    {
     "name": "stdout",
     "output_type": "stream",
     "text": [
      "mona.\n",
      "amyah.\n",
      "see.\n",
      "madhayla.\n",
      "remmanieldrie.\n",
      "cadelyn.\n",
      "elin.\n",
      "shi.\n",
      "jen.\n",
      "eden.\n",
      "estanaraelyn.\n",
      "malka.\n",
      "cayshabergihianna.\n",
      "kindreelle.\n",
      "xithana.\n",
      "ubrence.\n",
      "ryyah.\n",
      "fael.\n",
      "yuva.\n",
      "miston.\n"
     ]
    }
   ],
   "source": [
    "g = torch.Generator().manual_seed(2147483647 + 10)\n",
    "\n",
    "for _ in range(20):\n",
    "    out = []\n",
    "    context = [0] * block_size # initialize with ...\n",
    "    while True:\n",
    "        emb = C[torch.tensor([context])] # (1, block_size, d)\n",
    "        h = torch.tanh(emb.view(1, -1) @ W1 + b1)\n",
    "        logits = h @ W2 + b2\n",
    "        probs = F.softmax(logits, dim=1)\n",
    "        ix = torch.multinomial(probs, num_samples=1, generator=g).item()\n",
    "        context = context[1:] + [ix]\n",
    "        out.append(ix)\n",
    "\n",
    "        if ix == 0:\n",
    "            break\n",
    "\n",
    "    print(''.join(itos[i] for i in out))"
   ]
  },
  {
   "cell_type": "code",
   "execution_count": null,
   "id": "cd676522-a59e-4ebc-9e90-8323509f704d",
   "metadata": {},
   "outputs": [],
   "source": []
  }
 ],
 "metadata": {
  "kernelspec": {
   "display_name": "Python 3 (ipykernel)",
   "language": "python",
   "name": "python3"
  },
  "language_info": {
   "codemirror_mode": {
    "name": "ipython",
    "version": 3
   },
   "file_extension": ".py",
   "mimetype": "text/x-python",
   "name": "python",
   "nbconvert_exporter": "python",
   "pygments_lexer": "ipython3",
   "version": "3.12.3"
  }
 },
 "nbformat": 4,
 "nbformat_minor": 5
}
